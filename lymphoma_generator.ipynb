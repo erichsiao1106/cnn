{
  "nbformat": 4,
  "nbformat_minor": 0,
  "metadata": {
    "colab": {
      "name": "lymphoma-generator.ipynb",
      "provenance": [],
      "collapsed_sections": [],
      "include_colab_link": true
    },
    "kernelspec": {
      "name": "python3",
      "display_name": "Python 3"
    },
    "accelerator": "GPU"
  },
  "cells": [
    {
      "cell_type": "markdown",
      "metadata": {
        "id": "view-in-github",
        "colab_type": "text"
      },
      "source": [
        "<a href=\"https://colab.research.google.com/github/erichsiao1106/cnn/blob/master/lymphoma_generator.ipynb\" target=\"_parent\"><img src=\"https://colab.research.google.com/assets/colab-badge.svg\" alt=\"Open In Colab\"/></a>"
      ]
    },
    {
      "cell_type": "code",
      "metadata": {
        "id": "1dvjgYIC0zuY",
        "colab_type": "code",
        "colab": {}
      },
      "source": [
        "from google.colab import drive\n",
        "drive.mount('/content/drive/')"
      ],
      "execution_count": null,
      "outputs": []
    },
    {
      "cell_type": "code",
      "metadata": {
        "id": "8RhJmGMzdrXb",
        "colab_type": "code",
        "colab": {}
      },
      "source": [
        "from glob import glob\n",
        "import cv2\n",
        "import matplotlib.pyplot as plt\n",
        "import numpy as np\n",
        "from tqdm.auto import tqdm\n",
        "import keras\n",
        "from keras.layers import Input, Dense, Conv2D, MaxPool2D, Flatten\n",
        "from keras.models import Model\n",
        "from sklearn.model_selection import train_test_split\n",
        "\n",
        "from keras.callbacks import EarlyStopping, ModelCheckpoint, ReduceLROnPlateau"
      ],
      "execution_count": null,
      "outputs": []
    },
    {
      "cell_type": "code",
      "metadata": {
        "id": "mPIpgmfHfAcW",
        "colab_type": "code",
        "colab": {}
      },
      "source": [
        "IMG_SIZE = 200\n",
        "BATCH_SIZE = 32\n",
        "class_map = {'CLL':0, 'MCL': 1, 'FL': 2}"
      ],
      "execution_count": null,
      "outputs": []
    },
    {
      "cell_type": "code",
      "metadata": {
        "id": "TunMqWnneBfp",
        "colab_type": "code",
        "colab": {}
      },
      "source": [
        "# Read single image\n",
        "data_path = 'drive/My Drive/北分署/week8/lymphoma/*/*.tif' \n",
        "img_paths = glob(data_path)\n",
        "img_paths_train, img_paths_test = train_test_split(img_paths, test_size=0.2)\n",
        "len(img_paths), len(img_paths_train), len(img_paths_test)"
      ],
      "execution_count": null,
      "outputs": []
    },
    {
      "cell_type": "code",
      "metadata": {
        "id": "BS1jxQRpffKT",
        "colab_type": "code",
        "colab": {}
      },
      "source": [
        "def data_generator(data_paths, batch_size, num_classes):\n",
        "    '''data generator for fit_generator'''\n",
        "    n = len(data_paths)\n",
        "    i = 0\n",
        "    data_paths = data_paths\n",
        "    while True:\n",
        "        image_data = []\n",
        "        class_data = []\n",
        "        for b in range(batch_size):\n",
        "            if i==0:\n",
        "                np.random.shuffle(data_paths)\n",
        "            path = data_paths[i]\n",
        "            img = cv2.imread(path)\n",
        "            img_resize = cv2.resize(img, (IMG_SIZE, IMG_SIZE))\n",
        "            img_resize = img_resize/255\n",
        "            \n",
        "            cls = path.split('/')[-2]\n",
        "\n",
        "            image_data.append(img_resize)\n",
        "            class_data.append(class_map[cls])\n",
        "            i = (i+1) % n\n",
        "        image_data = np.array(image_data)\n",
        "        class_data = np.array(class_data)\n",
        "        class_data = keras.utils.to_categorical(class_data, num_classes=num_classes)\n",
        "        yield image_data, class_data\n"
      ],
      "execution_count": null,
      "outputs": []
    },
    {
      "cell_type": "code",
      "metadata": {
        "id": "w2gKb6LYzvzm",
        "colab_type": "code",
        "colab": {}
      },
      "source": [
        "generator_train = data_generator(data_paths=img_paths_train, batch_size=BATCH_SIZE, num_classes=3)\n",
        "generator_test = data_generator(data_paths=img_paths_test, batch_size=BATCH_SIZE, num_classes=3)"
      ],
      "execution_count": null,
      "outputs": []
    },
    {
      "cell_type": "code",
      "metadata": {
        "id": "VTvodRYkkXQh",
        "colab_type": "code",
        "colab": {}
      },
      "source": [
        "# 1\n",
        "inputs = Input(shape=(IMG_SIZE, IMG_SIZE, 3))\n",
        "x = Conv2D(filters=16, kernel_size=3, activation='relu')(inputs)\n",
        "x = Conv2D(filters=16, kernel_size=3, activation='relu')(x)\n",
        "x = MaxPool2D(2)(x)\n",
        "x = Conv2D(filters=16, kernel_size=3, activation='relu')(x)\n",
        "x = Conv2D(filters=16, kernel_size=3, activation='relu')(x)\n",
        "x = MaxPool2D(2)(x)\n",
        "x = Flatten()(x)\n",
        "x = Dense(64, activation=keras.activations.relu)(x)\n",
        "prediction = Dense(3, activation='softmax')(x)\n",
        "model = Model(inputs=inputs, outputs=prediction)"
      ],
      "execution_count": null,
      "outputs": []
    },
    {
      "cell_type": "code",
      "metadata": {
        "id": "8bXw628qltQk",
        "colab_type": "code",
        "colab": {}
      },
      "source": [
        "model.summary()"
      ],
      "execution_count": null,
      "outputs": []
    },
    {
      "cell_type": "code",
      "metadata": {
        "id": "TlrMQGuMl5qm",
        "colab_type": "code",
        "colab": {}
      },
      "source": [
        "model.compile(loss=keras.losses.categorical_crossentropy,\n",
        "              optimizer=keras.optimizers.Adam(),\n",
        "              metrics=['accuracy'])"
      ],
      "execution_count": null,
      "outputs": []
    },
    {
      "cell_type": "code",
      "metadata": {
        "id": "tmIwgvJDl9Ul",
        "colab_type": "code",
        "colab": {}
      },
      "source": [
        "logs = model.fit_generator(generator_train,\n",
        "                           epochs=10,\n",
        "                           steps_per_epoch=len(img_paths_train)//BATCH_SIZE,\n",
        "                           validation_data=generator_test,\n",
        "                           validation_steps=len(img_paths_test)//BATCH_SIZE,\n",
        "                            )"
      ],
      "execution_count": null,
      "outputs": []
    },
    {
      "cell_type": "code",
      "metadata": {
        "id": "9C1LAi_Bl_wG",
        "colab_type": "code",
        "colab": {}
      },
      "source": [
        "history = logs.history"
      ],
      "execution_count": null,
      "outputs": []
    },
    {
      "cell_type": "code",
      "metadata": {
        "id": "EtV7nHnAnOUm",
        "colab_type": "code",
        "colab": {}
      },
      "source": [
        "plt.plot(history['acc'])\n",
        "plt.plot(history['val_acc'])\n",
        "plt.legend(['acc', 'val_acc'])\n",
        "plt.title('acc')"
      ],
      "execution_count": null,
      "outputs": []
    },
    {
      "cell_type": "code",
      "metadata": {
        "id": "h_UGbXp2nQHj",
        "colab_type": "code",
        "colab": {}
      },
      "source": [
        "plt.plot(history['loss'])\n",
        "plt.plot(history['val_loss'])\n",
        "plt.legend(['loss', 'val_loss'])\n",
        "plt.title('loss')"
      ],
      "execution_count": null,
      "outputs": []
    },
    {
      "cell_type": "code",
      "metadata": {
        "id": "1_cHYtN2nS6D",
        "colab_type": "code",
        "colab": {}
      },
      "source": [
        "from sklearn.metrics import classification_report, confusion_matrix\n",
        "y_true = np.argmax(y_test, axis=-1)\n",
        "y_pred = np.argmax(model.predict(X_test), axis=-1)\n",
        "print(y_true.shape, y_pred.shape)\n",
        "target_names = [str(i) for i in range(3)]\n",
        "print(classification_report(y_true, y_pred, target_names=target_names))\n",
        "print(confusion_matrix(y_true, y_pred))\n"
      ],
      "execution_count": null,
      "outputs": []
    },
    {
      "cell_type": "code",
      "metadata": {
        "id": "8G15swbSnazY",
        "colab_type": "code",
        "colab": {}
      },
      "source": [
        ""
      ],
      "execution_count": null,
      "outputs": []
    }
  ]
}