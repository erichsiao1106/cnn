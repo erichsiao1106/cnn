{
  "nbformat": 4,
  "nbformat_minor": 0,
  "metadata": {
    "colab": {
      "name": "lymphoma-generator tf.keras.ipynb",
      "provenance": [],
      "collapsed_sections": [],
      "include_colab_link": true
    },
    "kernelspec": {
      "name": "python3",
      "display_name": "Python 3"
    },
    "accelerator": "GPU"
  },
  "cells": [
    {
      "cell_type": "markdown",
      "metadata": {
        "id": "view-in-github",
        "colab_type": "text"
      },
      "source": [
        "<a href=\"https://colab.research.google.com/github/erichsiao1106/cnn/blob/master/lymphoma_generator_tf_keras.ipynb\" target=\"_parent\"><img src=\"https://colab.research.google.com/assets/colab-badge.svg\" alt=\"Open In Colab\"/></a>"
      ]
    },
    {
      "cell_type": "code",
      "metadata": {
        "id": "1dvjgYIC0zuY",
        "colab_type": "code",
        "colab": {
          "base_uri": "https://localhost:8080/",
          "height": 121
        },
        "outputId": "7fb87f13-adb2-42a9-c112-9b11caf084b5"
      },
      "source": [
        "from google.colab import drive\n",
        "drive.mount('/content/drive/')"
      ],
      "execution_count": null,
      "outputs": [
        {
          "output_type": "stream",
          "text": [
            "Go to this URL in a browser: https://accounts.google.com/o/oauth2/auth?client_id=947318989803-6bn6qk8qdgf4n4g3pfee6491hc0brc4i.apps.googleusercontent.com&redirect_uri=urn%3aietf%3awg%3aoauth%3a2.0%3aoob&scope=email%20https%3a%2f%2fwww.googleapis.com%2fauth%2fdocs.test%20https%3a%2f%2fwww.googleapis.com%2fauth%2fdrive%20https%3a%2f%2fwww.googleapis.com%2fauth%2fdrive.photos.readonly%20https%3a%2f%2fwww.googleapis.com%2fauth%2fpeopleapi.readonly&response_type=code\n",
            "\n",
            "Enter your authorization code:\n",
            "··········\n",
            "Mounted at /content/drive/\n"
          ],
          "name": "stdout"
        }
      ]
    },
    {
      "cell_type": "code",
      "metadata": {
        "id": "8RhJmGMzdrXb",
        "colab_type": "code",
        "colab": {}
      },
      "source": [
        "from glob import glob\n",
        "import cv2\n",
        "import matplotlib.pyplot as plt\n",
        "import numpy as np\n",
        "from tqdm.auto import tqdm\n",
        "from sklearn.model_selection import train_test_split\n",
        "\n",
        "import tensorflow as tf\n",
        "from tensorflow.keras.layers import Input, Dense, Conv2D, MaxPool2D, Flatten\n",
        "from tensorflow.keras.models import Model"
      ],
      "execution_count": null,
      "outputs": []
    },
    {
      "cell_type": "code",
      "metadata": {
        "id": "mPIpgmfHfAcW",
        "colab_type": "code",
        "colab": {}
      },
      "source": [
        "IMG_SIZE = 200\n",
        "BATCH_SIZE = 16\n",
        "class_map = {'CLL':0, 'MCL': 1, 'FL': 2}"
      ],
      "execution_count": null,
      "outputs": []
    },
    {
      "cell_type": "code",
      "metadata": {
        "id": "TunMqWnneBfp",
        "colab_type": "code",
        "colab": {
          "base_uri": "https://localhost:8080/",
          "height": 34
        },
        "outputId": "99427b1c-cdc4-4e9b-8a8b-a6e170720fe7"
      },
      "source": [
        "# Read single image\n",
        "data_path = 'drive/My Drive/class/緯育醫學影像/Day4/lymphoma/*/*.tif' \n",
        "img_paths = glob(data_path)\n",
        "img_paths_train, img_paths_test = train_test_split(img_paths, test_size=0.2)\n",
        "len(img_paths), len(img_paths_train), len(img_paths_test)"
      ],
      "execution_count": null,
      "outputs": [
        {
          "output_type": "execute_result",
          "data": {
            "text/plain": [
              "(374, 299, 75)"
            ]
          },
          "metadata": {
            "tags": []
          },
          "execution_count": 18
        }
      ]
    },
    {
      "cell_type": "code",
      "metadata": {
        "id": "BS1jxQRpffKT",
        "colab_type": "code",
        "colab": {}
      },
      "source": [
        "def data_generator(data_paths, batch_size, num_classes):\n",
        "    '''data generator for fit'''\n",
        "    n = len(data_paths)\n",
        "    i = 0\n",
        "    data_paths = data_paths\n",
        "    while True:\n",
        "        image_data = [] # X: model input\n",
        "        class_data = [] # y: label\n",
        "        for b in range(batch_size):\n",
        "            if i==0:\n",
        "                np.random.shuffle(data_paths)\n",
        "            path = data_paths[i]\n",
        "            img = cv2.imread(path)\n",
        "            img_resize = cv2.resize(img, (IMG_SIZE, IMG_SIZE))\n",
        "            img_resize = img_resize/255\n",
        "\n",
        "            cls = path.split('/')[-2]\n",
        "\n",
        "            image_data.append(img_resize)\n",
        "            class_data.append(class_map[cls])\n",
        "            i = (i+1) % n\n",
        "        image_data = np.array(image_data)\n",
        "        class_data = np.array(class_data)\n",
        "        class_data = tf.keras.utils.to_categorical(class_data, num_classes=num_classes)\n",
        "        yield image_data, class_data\n"
      ],
      "execution_count": null,
      "outputs": []
    },
    {
      "cell_type": "code",
      "metadata": {
        "id": "w2gKb6LYzvzm",
        "colab_type": "code",
        "colab": {}
      },
      "source": [
        "generator_train = data_generator(data_paths=img_paths_train, batch_size=BATCH_SIZE, num_classes=3)\n",
        "generator_test = data_generator(data_paths=img_paths_test, batch_size=BATCH_SIZE, num_classes=3)"
      ],
      "execution_count": null,
      "outputs": []
    },
    {
      "cell_type": "code",
      "metadata": {
        "id": "VTvodRYkkXQh",
        "colab_type": "code",
        "colab": {}
      },
      "source": [
        "# 1\n",
        "inputs = Input(shape=(IMG_SIZE, IMG_SIZE, 3))\n",
        "x = Conv2D(filters=32, kernel_size=3, activation='relu')(inputs)\n",
        "x = Conv2D(filters=32, kernel_size=3, activation='relu')(x)\n",
        "x = MaxPool2D(2)(x)\n",
        "x = Conv2D(filters=64, kernel_size=3, activation='relu')(x)\n",
        "x = Conv2D(filters=64, kernel_size=3, activation='relu')(x)\n",
        "x = MaxPool2D(2)(x)\n",
        "x = Conv2D(filters=128, kernel_size=3, activation='relu')(x)\n",
        "x = Conv2D(filters=128, kernel_size=3, activation='relu')(x)\n",
        "x = MaxPool2D(2)(x)\n",
        "x = tf.keras.layers.GlobalAveragePooling2D()(x)\n",
        "x = Dense(64, activation=tf.keras.activations.relu)(x)\n",
        "prediction = Dense(3, activation='softmax')(x)\n",
        "model = Model(inputs=inputs, outputs=prediction)"
      ],
      "execution_count": null,
      "outputs": []
    },
    {
      "cell_type": "code",
      "metadata": {
        "id": "8bXw628qltQk",
        "colab_type": "code",
        "colab": {
          "base_uri": "https://localhost:8080/",
          "height": 588
        },
        "outputId": "a9737734-8d54-4b89-9999-1a35bf92b8ac"
      },
      "source": [
        "model.summary()"
      ],
      "execution_count": null,
      "outputs": [
        {
          "output_type": "stream",
          "text": [
            "Model: \"functional_5\"\n",
            "_________________________________________________________________\n",
            "Layer (type)                 Output Shape              Param #   \n",
            "=================================================================\n",
            "input_3 (InputLayer)         [(None, 200, 200, 3)]     0         \n",
            "_________________________________________________________________\n",
            "conv2d_10 (Conv2D)           (None, 198, 198, 32)      896       \n",
            "_________________________________________________________________\n",
            "conv2d_11 (Conv2D)           (None, 196, 196, 32)      9248      \n",
            "_________________________________________________________________\n",
            "max_pooling2d_5 (MaxPooling2 (None, 98, 98, 32)        0         \n",
            "_________________________________________________________________\n",
            "conv2d_12 (Conv2D)           (None, 96, 96, 64)        18496     \n",
            "_________________________________________________________________\n",
            "conv2d_13 (Conv2D)           (None, 94, 94, 64)        36928     \n",
            "_________________________________________________________________\n",
            "max_pooling2d_6 (MaxPooling2 (None, 47, 47, 64)        0         \n",
            "_________________________________________________________________\n",
            "conv2d_14 (Conv2D)           (None, 45, 45, 128)       73856     \n",
            "_________________________________________________________________\n",
            "conv2d_15 (Conv2D)           (None, 43, 43, 128)       147584    \n",
            "_________________________________________________________________\n",
            "max_pooling2d_7 (MaxPooling2 (None, 21, 21, 128)       0         \n",
            "_________________________________________________________________\n",
            "global_average_pooling2d_1 ( (None, 128)               0         \n",
            "_________________________________________________________________\n",
            "dense_4 (Dense)              (None, 64)                8256      \n",
            "_________________________________________________________________\n",
            "dense_5 (Dense)              (None, 3)                 195       \n",
            "=================================================================\n",
            "Total params: 295,459\n",
            "Trainable params: 295,459\n",
            "Non-trainable params: 0\n",
            "_________________________________________________________________\n"
          ],
          "name": "stdout"
        }
      ]
    },
    {
      "cell_type": "code",
      "metadata": {
        "id": "TlrMQGuMl5qm",
        "colab_type": "code",
        "colab": {}
      },
      "source": [
        "model.compile(loss=tf.keras.losses.categorical_crossentropy,\n",
        "              optimizer=tf.keras.optimizers.Adam(),\n",
        "              metrics=['accuracy'])"
      ],
      "execution_count": null,
      "outputs": []
    },
    {
      "cell_type": "code",
      "metadata": {
        "id": "tmIwgvJDl9Ul",
        "colab_type": "code",
        "colab": {
          "base_uri": "https://localhost:8080/",
          "height": 373
        },
        "outputId": "d31defda-090d-4e04-f297-fa299f450897"
      },
      "source": [
        "logs = model.fit(generator_train,\n",
        "                epochs=10,\n",
        "                steps_per_epoch=len(img_paths_train)//BATCH_SIZE,\n",
        "                validation_data=generator_test,\n",
        "                validation_steps=len(img_paths_test)//BATCH_SIZE,\n",
        "                )"
      ],
      "execution_count": null,
      "outputs": [
        {
          "output_type": "stream",
          "text": [
            "Epoch 1/10\n",
            "18/18 [==============================] - 8s 421ms/step - loss: 1.1009 - accuracy: 0.3646 - val_loss: 1.0982 - val_accuracy: 0.3750\n",
            "Epoch 2/10\n",
            "18/18 [==============================] - 8s 420ms/step - loss: 1.0939 - accuracy: 0.3750 - val_loss: 1.0857 - val_accuracy: 0.3750\n",
            "Epoch 3/10\n",
            "18/18 [==============================] - 8s 423ms/step - loss: 1.0657 - accuracy: 0.4375 - val_loss: 1.0370 - val_accuracy: 0.5000\n",
            "Epoch 4/10\n",
            "18/18 [==============================] - 8s 424ms/step - loss: 0.9730 - accuracy: 0.5208 - val_loss: 0.9586 - val_accuracy: 0.5469\n",
            "Epoch 5/10\n",
            "18/18 [==============================] - 8s 429ms/step - loss: 0.9580 - accuracy: 0.5417 - val_loss: 0.9987 - val_accuracy: 0.4688\n",
            "Epoch 6/10\n",
            "18/18 [==============================] - 8s 423ms/step - loss: 0.9864 - accuracy: 0.4965 - val_loss: 0.9915 - val_accuracy: 0.4688\n",
            "Epoch 7/10\n",
            "18/18 [==============================] - 8s 424ms/step - loss: 0.9193 - accuracy: 0.5694 - val_loss: 0.9666 - val_accuracy: 0.5000\n",
            "Epoch 8/10\n",
            "18/18 [==============================] - 8s 424ms/step - loss: 0.9062 - accuracy: 0.4757 - val_loss: 1.1280 - val_accuracy: 0.5000\n",
            "Epoch 9/10\n",
            "18/18 [==============================] - 8s 425ms/step - loss: 0.8325 - accuracy: 0.6215 - val_loss: 0.8787 - val_accuracy: 0.5938\n",
            "Epoch 10/10\n",
            "18/18 [==============================] - 8s 424ms/step - loss: 0.8076 - accuracy: 0.6181 - val_loss: 0.9592 - val_accuracy: 0.4219\n"
          ],
          "name": "stdout"
        }
      ]
    },
    {
      "cell_type": "code",
      "metadata": {
        "id": "9C1LAi_Bl_wG",
        "colab_type": "code",
        "colab": {}
      },
      "source": [
        "history = logs.history"
      ],
      "execution_count": null,
      "outputs": []
    },
    {
      "cell_type": "code",
      "metadata": {
        "id": "EtV7nHnAnOUm",
        "colab_type": "code",
        "colab": {}
      },
      "source": [
        "plt.plot(history['accuracy'])\n",
        "plt.plot(history['val_accuracy'])\n",
        "plt.legend(['accuracy', 'val_accuracy'])\n",
        "plt.title('accuracy')"
      ],
      "execution_count": null,
      "outputs": []
    },
    {
      "cell_type": "code",
      "metadata": {
        "id": "h_UGbXp2nQHj",
        "colab_type": "code",
        "colab": {}
      },
      "source": [
        "plt.plot(history['loss'])\n",
        "plt.plot(history['val_loss'])\n",
        "plt.legend(['loss', 'val_loss'])\n",
        "plt.title('loss')"
      ],
      "execution_count": null,
      "outputs": []
    },
    {
      "cell_type": "code",
      "metadata": {
        "id": "1_cHYtN2nS6D",
        "colab_type": "code",
        "colab": {}
      },
      "source": [
        "from sklearn.metrics import classification_report, confusion_matrix\n",
        "y_true = np.argmax(y_test, axis=-1)\n",
        "y_pred = np.argmax(model.predict(X_test), axis=-1)\n",
        "print(y_true.shape, y_pred.shape)\n",
        "target_names = [str(i) for i in range(3)]\n",
        "print(classification_report(y_true, y_pred, target_names=target_names))\n",
        "print(confusion_matrix(y_true, y_pred))\n"
      ],
      "execution_count": null,
      "outputs": []
    },
    {
      "cell_type": "code",
      "metadata": {
        "id": "8G15swbSnazY",
        "colab_type": "code",
        "colab": {}
      },
      "source": [
        ""
      ],
      "execution_count": null,
      "outputs": []
    }
  ]
}